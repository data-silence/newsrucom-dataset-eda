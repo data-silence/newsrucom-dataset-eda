{
 "cells": [
  {
   "cell_type": "markdown",
   "source": [
    "## Загрузка необходимых библиотек и модулей, установка пакетов"
   ],
   "metadata": {
    "collapsed": false
   },
   "id": "b1398b216b449ab3"
  },
  {
   "cell_type": "code",
   "execution_count": 1,
   "outputs": [
    {
     "name": "stderr",
     "output_type": "stream",
     "text": [
      "[nltk_data] Downloading package stopwords to\n",
      "[nltk_data]     C:\\Users\\maxle\\AppData\\Roaming\\nltk_data...\n",
      "[nltk_data]   Package stopwords is already up-to-date!\n"
     ]
    }
   ],
   "source": [
    "import warnings\n",
    "warnings.simplefilter(action='ignore', category=FutureWarning)\n",
    "import matplotlib.pyplot as plt\n",
    "import seaborn as sns\n",
    "import numpy as np\n",
    "import pandas as pd\n",
    "import datetime\n",
    "from wordcloud import WordCloud, STOPWORDS\n",
    "\n",
    "import nltk\n",
    "from nltk.corpus import stopwords\n",
    "nltk.download(\"stopwords\")\n",
    "\n",
    "sns.set(style=\"darkgrid\")\n",
    "%matplotlib inline"
   ],
   "metadata": {
    "collapsed": false,
    "ExecuteTime": {
     "start_time": "2023-11-16T14:22:12.390021100Z"
    }
   },
   "id": "initial_id"
  },
  {
   "cell_type": "code",
   "execution_count": 3,
   "outputs": [
    {
     "data": {
      "text/html": "        <script type=\"text/javascript\">\n        window.PlotlyConfig = {MathJaxConfig: 'local'};\n        if (window.MathJax && window.MathJax.Hub && window.MathJax.Hub.Config) {window.MathJax.Hub.Config({SVG: {font: \"STIX-Web\"}});}\n        if (typeof require !== 'undefined') {\n        require.undef(\"plotly\");\n        requirejs.config({\n            paths: {\n                'plotly': ['https://cdn.plot.ly/plotly-2.27.0.min']\n            }\n        });\n        require(['plotly'], function(Plotly) {\n            window._Plotly = Plotly;\n        });\n        }\n        </script>\n        "
     },
     "metadata": {},
     "output_type": "display_data"
    }
   ],
   "source": [
    "from collections import defaultdict\n",
    "from sklearn.feature_extraction.text import TfidfVectorizer\n",
    "from sklearn.model_selection import train_test_split\n",
    "from sklearn.linear_model import LogisticRegression\n",
    "from sklearn.pipeline import Pipeline\n",
    "from sklearn.metrics import classification_report\n",
    "from sklearn.naive_bayes import MultinomialNB\n",
    "from sklearn.svm import SVC\n",
    "\n",
    "import gensim.downloader\n",
    "from gensim.models import Word2Vec, KeyedVectors\n",
    "from natasha import Doc, Segmenter, MorphVocab, NewsEmbedding, NewsMorphTagger\n",
    "\n",
    "import mlxtend\n",
    "from mlxtend.evaluate import paired_ttest_kfold_cv\n",
    "\n",
    "from plotly.offline import iplot\n",
    "import cufflinks as cf\n",
    "cf.go_offline()\n",
    "cf.set_config_file(offline=False, world_readable=True)"
   ],
   "metadata": {
    "collapsed": false,
    "ExecuteTime": {
     "start_time": "2023-11-15T18:08:02.276775300Z"
    }
   },
   "id": "2037a328c126216c"
  },
  {
   "cell_type": "code",
   "execution_count": 16,
   "outputs": [],
   "source": [
    "stop_words = stopwords.words('russian')\n",
    "stop_words.extend(['что', 'это', 'так',\n",
    "                    'вот', 'быть', 'как',\n",
    "                    'в', '—', 'к', 'за', 'из', 'из-за',\n",
    "                    'на', 'ок', 'кстати',\n",
    "                    'который', 'мочь', 'весь',\n",
    "                    'еще', 'также', 'свой',\n",
    "                    'ещё', 'самый', 'ул', 'комментарий',\n",
    "                    'английский', 'язык'])"
   ],
   "metadata": {
    "collapsed": false,
    "ExecuteTime": {
     "end_time": "2023-11-15T18:19:14.229561900Z",
     "start_time": "2023-11-15T18:19:14.197906100Z"
    }
   },
   "id": "1af6a8ff2ec667a9"
  },
  {
   "cell_type": "markdown",
   "source": [
    "## Вспоминаем собранный датасет"
   ],
   "metadata": {
    "collapsed": false
   },
   "id": "be844bebee4ae2d2"
  },
  {
   "cell_type": "code",
   "execution_count": 3,
   "outputs": [],
   "source": [
    "df = pd.read_pickle('df.p', compression='gzip')"
   ],
   "metadata": {
    "collapsed": false,
    "ExecuteTime": {
     "start_time": "2023-11-16T14:22:49.828760900Z"
    }
   },
   "id": "edad68b391631786"
  },
  {
   "cell_type": "code",
   "execution_count": 11,
   "outputs": [
    {
     "data": {
      "text/plain": "(608028, 14)"
     },
     "execution_count": 11,
     "metadata": {},
     "output_type": "execute_result"
    }
   ],
   "source": [
    "df.shape"
   ],
   "metadata": {
    "collapsed": false,
    "ExecuteTime": {
     "start_time": "2023-11-16T14:37:01.624261200Z"
    }
   },
   "id": "ed688a904c58269b"
  },
  {
   "cell_type": "code",
   "execution_count": 7,
   "outputs": [
    {
     "data": {
      "text/plain": "                                                      url  \\\n462670      https://newsru.com/cinema/05may2005/pitt.html   \n571541      https://newsru.com/cinema/16sep2009/slon.html   \n234598     https://newsru.com/world/28feb2017/israel.html   \n298351  https://newsru.com/realty/15may2020/putin_snip...   \n278707   https://newsru.com/russia/23dec2018/isobody.html   \n\n                                                    title  \\\n462670  Шумный секс Питта и Джоли: охрана подумала, чт...   \n571541  Рок-музыкант Шнуров снимется в фильме о тяжело...   \n234598  Израиль предложил арабским странам создать аль...   \n298351  Путин потребовал от правительства навести поря...   \n278707  На шахте в Соликамске обнаружено тело девятого...   \n\n                                                   resume  \\\n462670  После того, как вооруженные охранники помчалис...   \n571541  Как рассказали на съемочной площадке, в фильме...   \n234598  Суннитские арабские страны поняли, что самую с...   \n298351  \"Я прекрасно отдаю себе отчет, что происходит ...   \n278707  В субботу около 10:04 мск произошло задымление...   \n\n                                                     news                date  \\\n462670  Голливудских звезд Брэда Питта и Анджелину Джо... 2005-05-05 14:22:00   \n571541  В Белоруссии начались съемки фильма \"Слон\", в ... 2009-09-16 16:29:00   \n234598  Израиль предлагает Саудовской Аравии и другим ... 2017-02-28 16:32:00   \n298351  Президент России Владимир Путин потребовал от ... 2020-05-15 18:21:00   \n278707  Горноспасатели подняли на поверхность тела шес... 2018-12-23 11:52:00   \n\n          tags  day month_year  year      month    weekday  len_title  \\\n462670  cinema    5    2005-05  2005        May   Thursday         63   \n571541  cinema   16    2009-09  2009  September  Wednesday         60   \n234598   world   28    2017-02  2017   February    Tuesday         79   \n298351  realty   15    2020-05  2020        May     Friday        109   \n278707  russia   23    2018-12  2018   December     Sunday         56   \n\n        len_resume  len_news  \n462670         211      3401  \n571541         240      1413  \n234598         339       210  \n298351         259      1990  \n278707         235       318  ",
      "text/html": "<div>\n<style scoped>\n    .dataframe tbody tr th:only-of-type {\n        vertical-align: middle;\n    }\n\n    .dataframe tbody tr th {\n        vertical-align: top;\n    }\n\n    .dataframe thead th {\n        text-align: right;\n    }\n</style>\n<table border=\"1\" class=\"dataframe\">\n  <thead>\n    <tr style=\"text-align: right;\">\n      <th></th>\n      <th>url</th>\n      <th>title</th>\n      <th>resume</th>\n      <th>news</th>\n      <th>date</th>\n      <th>tags</th>\n      <th>day</th>\n      <th>month_year</th>\n      <th>year</th>\n      <th>month</th>\n      <th>weekday</th>\n      <th>len_title</th>\n      <th>len_resume</th>\n      <th>len_news</th>\n    </tr>\n  </thead>\n  <tbody>\n    <tr>\n      <th>462670</th>\n      <td>https://newsru.com/cinema/05may2005/pitt.html</td>\n      <td>Шумный секс Питта и Джоли: охрана подумала, чт...</td>\n      <td>После того, как вооруженные охранники помчалис...</td>\n      <td>Голливудских звезд Брэда Питта и Анджелину Джо...</td>\n      <td>2005-05-05 14:22:00</td>\n      <td>cinema</td>\n      <td>5</td>\n      <td>2005-05</td>\n      <td>2005</td>\n      <td>May</td>\n      <td>Thursday</td>\n      <td>63</td>\n      <td>211</td>\n      <td>3401</td>\n    </tr>\n    <tr>\n      <th>571541</th>\n      <td>https://newsru.com/cinema/16sep2009/slon.html</td>\n      <td>Рок-музыкант Шнуров снимется в фильме о тяжело...</td>\n      <td>Как рассказали на съемочной площадке, в фильме...</td>\n      <td>В Белоруссии начались съемки фильма \"Слон\", в ...</td>\n      <td>2009-09-16 16:29:00</td>\n      <td>cinema</td>\n      <td>16</td>\n      <td>2009-09</td>\n      <td>2009</td>\n      <td>September</td>\n      <td>Wednesday</td>\n      <td>60</td>\n      <td>240</td>\n      <td>1413</td>\n    </tr>\n    <tr>\n      <th>234598</th>\n      <td>https://newsru.com/world/28feb2017/israel.html</td>\n      <td>Израиль предложил арабским странам создать аль...</td>\n      <td>Суннитские арабские страны поняли, что самую с...</td>\n      <td>Израиль предлагает Саудовской Аравии и другим ...</td>\n      <td>2017-02-28 16:32:00</td>\n      <td>world</td>\n      <td>28</td>\n      <td>2017-02</td>\n      <td>2017</td>\n      <td>February</td>\n      <td>Tuesday</td>\n      <td>79</td>\n      <td>339</td>\n      <td>210</td>\n    </tr>\n    <tr>\n      <th>298351</th>\n      <td>https://newsru.com/realty/15may2020/putin_snip...</td>\n      <td>Путин потребовал от правительства навести поря...</td>\n      <td>\"Я прекрасно отдаю себе отчет, что происходит ...</td>\n      <td>Президент России Владимир Путин потребовал от ...</td>\n      <td>2020-05-15 18:21:00</td>\n      <td>realty</td>\n      <td>15</td>\n      <td>2020-05</td>\n      <td>2020</td>\n      <td>May</td>\n      <td>Friday</td>\n      <td>109</td>\n      <td>259</td>\n      <td>1990</td>\n    </tr>\n    <tr>\n      <th>278707</th>\n      <td>https://newsru.com/russia/23dec2018/isobody.html</td>\n      <td>На шахте в Соликамске обнаружено тело девятого...</td>\n      <td>В субботу около 10:04 мск произошло задымление...</td>\n      <td>Горноспасатели подняли на поверхность тела шес...</td>\n      <td>2018-12-23 11:52:00</td>\n      <td>russia</td>\n      <td>23</td>\n      <td>2018-12</td>\n      <td>2018</td>\n      <td>December</td>\n      <td>Sunday</td>\n      <td>56</td>\n      <td>235</td>\n      <td>318</td>\n    </tr>\n  </tbody>\n</table>\n</div>"
     },
     "execution_count": 7,
     "metadata": {},
     "output_type": "execute_result"
    }
   ],
   "source": [
    "df.sample(5)"
   ],
   "metadata": {
    "collapsed": false,
    "ExecuteTime": {
     "start_time": "2023-11-16T14:34:53.437771700Z"
    }
   },
   "id": "1ebb6db59419b5b9"
  },
  {
   "cell_type": "code",
   "execution_count": 12,
   "outputs": [
    {
     "data": {
      "text/plain": "world      180612\nrussia     180284\nsport       77344\nfinance     57753\ncinema      39744\nauto        25209\nrealty      23714\nhitech      23368\nName: tags, dtype: int64"
     },
     "execution_count": 12,
     "metadata": {},
     "output_type": "execute_result"
    }
   ],
   "source": [
    "df.tags.value_counts()"
   ],
   "metadata": {
    "collapsed": false,
    "ExecuteTime": {
     "end_time": "2023-11-16T14:37:39.780146Z",
     "start_time": "2023-11-16T14:37:39.686020600Z"
    }
   },
   "id": "70d8d1f0990100fb"
  },
  {
   "cell_type": "markdown",
   "source": [
    "## Постановка задачи\n",
    "Это вторая часть работы в рамках курса по NLP, которая посвящена решению задачи классификации на основе собранного в первой части датасета новостей с ресурса newsru.com. Реализация сбора датасета и его подробный анализ был сделан на предыдущем этапе, вы можете посмотреть его в этом же репозитории в ноутбуке 'newsrucom_dataset_eda'.  \n",
    "\n",
    "Построение классификатора требует сам собранный датасет. Напомним, что основные его категории хранятся в столбце tag. Вот они: ['world', 'russia', 'sport', 'finance', 'cinema', 'auto', 'realty', 'hitech']. Категории 'world' и russia' по сути являются агрегирующими, и состоят из политических новостей и значительной примесью новостей из прочих категорий, обозначенных выше (похожая ситуация в эталонном ноутбуке, именно эти категории хуже всего определяются классификаторами согласно корряляционной матрице. Наличие таких категорий не даёт пользователю понимание характера новости без её прочтения, поэтому наша задача заменить эти две агрегирующие категории на нормальные монокатегории 'sport', 'finance', 'cinema', 'auto', 'realty', 'hitech' и 'polytics', для чего мы построим разные классификаторы, определим лучший из них и применим лучшую обученную модель классификации на новости, имеющие категории. \n",
    "\n",
    "Но откуда взять категорию \"политика\", которая отсутствует в нашем датасете? Для этого мы применим готовый обученный классификатор, который \"знает\" категории ['polytics', 'science', 'sport', 'economy', 'entertainment', 'other', 'not_news', 'technology'] к строкам из наших категорий 'world' и 'russia', и отберем среди тех новостей, которым классификатор присвоит категорию 'polytics', небольшую часть для обучения наших классификаторов. После обучения присвоим всем оставшимся новостям из этих агрегирующих категорий новые категории.      \n"
   ],
   "metadata": {
    "collapsed": false
   },
   "id": "4c463b1b4d6c3a49"
  },
  {
   "cell_type": "markdown",
   "source": [
    "Таким образом, \n",
    "## План действий:\n",
    "1. Отобрать в Train по 20_000 новостей из категорий 'sport', 'finance', 'cinema', 'auto', 'realty', 'hitech'. \n",
    "2. Обучить готовый классификатор fasttext на новостях категорий 'world' и 'russia', отобрать из них 20_000 новостей с категорией 'polytics' и добавить к Train. Train мы поделим ещё раз на ту часть, на которой будет обучаться (train с маленькой буквы и валидационную часть, на которой будем оценивать качество). У оставшихся новостей удалим категории. Это будет наша целевая выборка Test, куда мы будем применять лучшую модель классификации по итогам валидации (так получим новые значения категорий взамен 'world' и 'russia').\n",
    "3. Обучим несколько разных моделей эмбеддингов и классификаторов, и оценим их качество классификации:\n",
    "* world2vec + логистическая регрессия\n",
    "* обученный не мной fasttext + SVM\n",
    "* обученный в supervised режиме классификатор fasttext\n",
    "4. Применим лучшую модель к нашим новостям из датасета Train. \n",
    "5. Делаем общие выводы    "
   ],
   "metadata": {
    "collapsed": false
   },
   "id": "5f14592bcf32c7eb"
  },
  {
   "cell_type": "markdown",
   "source": [
    "### 1-2. Создаём Train и Test  \n",
    "Тут было куча кода работы в Pandas по удалению ненужных столбцов, отбору части строк, разделению датасетов и их частичному объединению. Не стал их включать в итоговый ноутбук, т.к. это не профильная заданию работа, а грязного кода она наплодила много. Посмотрим сразу на итоговые датасеты.  "
   ],
   "metadata": {
    "collapsed": false
   },
   "id": "314d3755ce328571"
  },
  {
   "cell_type": "code",
   "execution_count": 2,
   "outputs": [],
   "source": [
    "Train = pd.read_pickle('train.p', compression='gzip')"
   ],
   "metadata": {
    "collapsed": false,
    "ExecuteTime": {
     "start_time": "2023-11-14T17:53:03.275897300Z"
    }
   },
   "id": "6c1382b0f7e023e7"
  },
  {
   "cell_type": "code",
   "execution_count": 4,
   "outputs": [
    {
     "data": {
      "text/plain": "(330980, 3)"
     },
     "execution_count": 4,
     "metadata": {},
     "output_type": "execute_result"
    }
   ],
   "source": [
    "Train.shape"
   ],
   "metadata": {
    "collapsed": false,
    "ExecuteTime": {
     "start_time": "2023-11-14T07:49:17.614086100Z"
    }
   },
   "id": "303bcab7b2bbc41a"
  },
  {
   "cell_type": "code",
   "execution_count": 7,
   "outputs": [
    {
     "data": {
      "text/plain": "                                               title  \\\n0  Российский рынок акций закрылся выше уровня от...   \n1  В США распродали личные вещи Элвиса. Прядь вол...   \n2        Евросоюз отказывается от меха кошек и собак   \n3  Спилберг и Лукас превратили Нью-Мексико в Марокко   \n4  По делу Hapoalim предъявлено обвинение бизнесм...   \n\n                                              resume   target  \n0  Аналитики считают, что следующая сессия должна...  finance  \n1  Накануне в Чикаго ушли с молока около 200 личн...   cinema  \n2  Европарламент наложил запрет на торговлю одежд...  finance  \n3  В США начались съемки четвертой части фильма \"...   cinema  \n4  Бориса Хаита, владельца крупной российской стр...  finance  ",
      "text/html": "<div>\n<style scoped>\n    .dataframe tbody tr th:only-of-type {\n        vertical-align: middle;\n    }\n\n    .dataframe tbody tr th {\n        vertical-align: top;\n    }\n\n    .dataframe thead th {\n        text-align: right;\n    }\n</style>\n<table border=\"1\" class=\"dataframe\">\n  <thead>\n    <tr style=\"text-align: right;\">\n      <th></th>\n      <th>title</th>\n      <th>resume</th>\n      <th>target</th>\n    </tr>\n  </thead>\n  <tbody>\n    <tr>\n      <th>0</th>\n      <td>Российский рынок акций закрылся выше уровня от...</td>\n      <td>Аналитики считают, что следующая сессия должна...</td>\n      <td>finance</td>\n    </tr>\n    <tr>\n      <th>1</th>\n      <td>В США распродали личные вещи Элвиса. Прядь вол...</td>\n      <td>Накануне в Чикаго ушли с молока около 200 личн...</td>\n      <td>cinema</td>\n    </tr>\n    <tr>\n      <th>2</th>\n      <td>Евросоюз отказывается от меха кошек и собак</td>\n      <td>Европарламент наложил запрет на торговлю одежд...</td>\n      <td>finance</td>\n    </tr>\n    <tr>\n      <th>3</th>\n      <td>Спилберг и Лукас превратили Нью-Мексико в Марокко</td>\n      <td>В США начались съемки четвертой части фильма \"...</td>\n      <td>cinema</td>\n    </tr>\n    <tr>\n      <th>4</th>\n      <td>По делу Hapoalim предъявлено обвинение бизнесм...</td>\n      <td>Бориса Хаита, владельца крупной российской стр...</td>\n      <td>finance</td>\n    </tr>\n  </tbody>\n</table>\n</div>"
     },
     "execution_count": 7,
     "metadata": {},
     "output_type": "execute_result"
    }
   ],
   "source": [
    "Train.head(5)"
   ],
   "metadata": {
    "collapsed": false,
    "ExecuteTime": {
     "start_time": "2023-11-14T07:49:56.818493600Z"
    }
   },
   "id": "f8837c9e9860a8bc"
  },
  {
   "cell_type": "code",
   "execution_count": 8,
   "outputs": [
    {
     "data": {
      "text/plain": "polytics    83848\nsport       77344\nfinance     57753\ncinema      39744\nauto        25209\nrealty      23714\nhitech      23368\nName: target, dtype: int64"
     },
     "execution_count": 8,
     "metadata": {},
     "output_type": "execute_result"
    }
   ],
   "source": [
    "Train.target.value_counts()"
   ],
   "metadata": {
    "collapsed": false,
    "ExecuteTime": {
     "start_time": "2023-11-14T07:50:14.292399400Z"
    }
   },
   "id": "5c64332081266024"
  },
  {
   "cell_type": "code",
   "execution_count": 3,
   "outputs": [],
   "source": [
    "Test = pd.read_pickle('test.p', compression='gzip')"
   ],
   "metadata": {
    "collapsed": false,
    "ExecuteTime": {
     "start_time": "2023-11-14T17:53:06.256952600Z"
    }
   },
   "id": "275114a373012d00"
  },
  {
   "cell_type": "code",
   "execution_count": 9,
   "outputs": [
    {
     "data": {
      "text/plain": "                                               title  \\\n0  Источники настаивают, что Капков покинет свой ...   \n1  Мэр Кемерово в программе \"Мы вас слышим\" посов...   \n2  В Египте казнили первого из приговоренных к см...   \n3  В приемные трех канадских министров пришли кон...   \n4  МЧС посылает на Донбасс \"адресный\" гумконвой с...   \n\n                                              resume   target  \n0  Среди версий причин якобы грядущей отставки Се...  unknown  \n1  В последние выходные февраля в Кемеровской обл...  unknown  \n2  Махмуд Рамадам признан виновным в расправе над...  unknown  \n3  \"Опасные письма\" предназначались членам правящ...  unknown  \n4  МЧС \"направляет в Донецк своих представителей,...  unknown  ",
      "text/html": "<div>\n<style scoped>\n    .dataframe tbody tr th:only-of-type {\n        vertical-align: middle;\n    }\n\n    .dataframe tbody tr th {\n        vertical-align: top;\n    }\n\n    .dataframe thead th {\n        text-align: right;\n    }\n</style>\n<table border=\"1\" class=\"dataframe\">\n  <thead>\n    <tr style=\"text-align: right;\">\n      <th></th>\n      <th>title</th>\n      <th>resume</th>\n      <th>target</th>\n    </tr>\n  </thead>\n  <tbody>\n    <tr>\n      <th>0</th>\n      <td>Источники настаивают, что Капков покинет свой ...</td>\n      <td>Среди версий причин якобы грядущей отставки Се...</td>\n      <td>unknown</td>\n    </tr>\n    <tr>\n      <th>1</th>\n      <td>Мэр Кемерово в программе \"Мы вас слышим\" посов...</td>\n      <td>В последние выходные февраля в Кемеровской обл...</td>\n      <td>unknown</td>\n    </tr>\n    <tr>\n      <th>2</th>\n      <td>В Египте казнили первого из приговоренных к см...</td>\n      <td>Махмуд Рамадам признан виновным в расправе над...</td>\n      <td>unknown</td>\n    </tr>\n    <tr>\n      <th>3</th>\n      <td>В приемные трех канадских министров пришли кон...</td>\n      <td>\"Опасные письма\" предназначались членам правящ...</td>\n      <td>unknown</td>\n    </tr>\n    <tr>\n      <th>4</th>\n      <td>МЧС посылает на Донбасс \"адресный\" гумконвой с...</td>\n      <td>МЧС \"направляет в Донецк своих представителей,...</td>\n      <td>unknown</td>\n    </tr>\n  </tbody>\n</table>\n</div>"
     },
     "execution_count": 9,
     "metadata": {},
     "output_type": "execute_result"
    }
   ],
   "source": [
    "Test.head(5)"
   ],
   "metadata": {
    "collapsed": false,
    "ExecuteTime": {
     "start_time": "2023-11-14T07:50:25.112984200Z"
    }
   },
   "id": "35924e376375423d"
  },
  {
   "cell_type": "code",
   "execution_count": 11,
   "outputs": [
    {
     "data": {
      "text/plain": "unknown    234046\nName: target, dtype: int64"
     },
     "execution_count": 11,
     "metadata": {},
     "output_type": "execute_result"
    }
   ],
   "source": [
    "Test.target.value_counts()"
   ],
   "metadata": {
    "collapsed": false,
    "ExecuteTime": {
     "start_time": "2023-11-14T07:51:17.963131600Z"
    }
   },
   "id": "7c0317c1e083f3d3"
  },
  {
   "cell_type": "markdown",
   "source": [
    "Т.е. наша основная задача - заполнить категории в столбце target лучшей моделью. "
   ],
   "metadata": {
    "collapsed": false
   },
   "id": "55e9c4bc655f0630"
  },
  {
   "cell_type": "markdown",
   "source": [
    "Кстати, наш train получился несбалансированным по категориям. Забыл отобрать по 20_000 новостей, чтобы классификаторы определяли категории равновероятно. Исправляюсь  "
   ],
   "metadata": {
    "collapsed": false
   },
   "id": "9a5d94e92ab55fd5"
  },
  {
   "cell_type": "code",
   "execution_count": 10,
   "outputs": [],
   "source": [
    "final_train = Train.groupby('target').sample(20_000)"
   ],
   "metadata": {
    "collapsed": false,
    "ExecuteTime": {
     "start_time": "2023-11-14T18:45:06.341498400Z"
    }
   },
   "id": "e0d966c6eee0f38d"
  },
  {
   "cell_type": "code",
   "execution_count": 11,
   "outputs": [
    {
     "data": {
      "text/plain": "auto        20000\ncinema      20000\nfinance     20000\nhitech      20000\npolytics    20000\nrealty      20000\nsport       20000\nName: target, dtype: int64"
     },
     "execution_count": 11,
     "metadata": {},
     "output_type": "execute_result"
    }
   ],
   "source": [
    "final_train.target.value_counts()"
   ],
   "metadata": {
    "collapsed": false,
    "ExecuteTime": {
     "start_time": "2023-11-14T18:45:26.335543200Z"
    }
   },
   "id": "ef17506ab06fa0c7"
  },
  {
   "cell_type": "markdown",
   "source": [
    "Теперь ок. Сохраняем финальный тренировочный датафрейм на диск."
   ],
   "metadata": {
    "collapsed": false
   },
   "id": "aedc13bd7c2bb535"
  },
  {
   "cell_type": "code",
   "execution_count": 27,
   "outputs": [],
   "source": [
    "final_train.to_pickle('final_train.p', compression='gzip')"
   ],
   "metadata": {
    "collapsed": false,
    "ExecuteTime": {
     "start_time": "2023-11-14T19:17:25.629012600Z"
    }
   },
   "id": "9c6eeb9d5f43d512"
  },
  {
   "cell_type": "markdown",
   "source": [
    "### 3. Тренируем модели эмбедденгов и классификации\n",
    "#### 3.1. Word2vec + логистическая регреессия "
   ],
   "metadata": {
    "collapsed": false
   },
   "id": "80f6e47d0b13c08c"
  },
  {
   "cell_type": "code",
   "execution_count": 17,
   "outputs": [],
   "source": [
    "def text_prep(text) -> str:\n",
    "    doc = Doc(text)\n",
    "    doc.segment(segmenter)\n",
    "    doc.tag_morph(morph_tagger)\n",
    "\n",
    "    for token in doc.tokens:\n",
    "        token.lemmatize(morph_vocab)\n",
    "\n",
    "    lemmas = [_.lemma for _ in doc.tokens]\n",
    "    words = [lemma for lemma in lemmas if lemma.isalpha() and len(lemma) > 2]\n",
    "    filtered_words = [word for word in words if word not in stop_words]\n",
    "    return \" \".join(filtered_words)"
   ],
   "metadata": {
    "collapsed": false,
    "ExecuteTime": {
     "end_time": "2023-11-15T18:19:16.243914900Z",
     "start_time": "2023-11-15T18:19:16.218705500Z"
    }
   },
   "id": "41a464f7b4449d5a"
  },
  {
   "cell_type": "code",
   "execution_count": 32,
   "outputs": [],
   "source": [
    "final_train['title_clean'] = final_train.title.apply(text_prep)\n",
    "final_train['resume_clean'] = final_train.resume.apply(text_prep)"
   ],
   "metadata": {
    "collapsed": false,
    "ExecuteTime": {
     "end_time": "2023-11-14T19:39:04.233894Z",
     "start_time": "2023-11-14T19:23:36.490481Z"
    }
   },
   "id": "b6b018418f90626"
  },
  {
   "cell_type": "code",
   "execution_count": 22,
   "outputs": [
    {
     "data": {
      "text/plain": "                                                    title  \\\n95479   Продажи Lada Granta с новой трансмиссией старт...   \n51999   Музей западного искусства создадут, но виртуал...   \n194640  Спор федеральных и местных властей о принадлеж...   \n316404  В Мехико запретили цирковые выступления с учас...   \n70660   В Швеции состоялся первый концерт группы, инст...   \n\n                                                   resume    target  \\\n95479   Волжский автомобильный завод планирует расшири...      auto   \n51999   \"Совместим все коллекции, во всяком случае то,...    cinema   \n194640  На этой неделе КС должен разрешить имущественн...    realty   \n316404  С понедельника, 9 июня, зрителям, пришедшим на...  polytics   \n70660   Инициатором выступления стал профессор Лундско...    hitech   \n\n                                              title_clean  \\\n95479   продажа lada granta новый трансмиссия стартова...   \n51999   музей западный искусство создать виртуальный к...   \n194640  спор федеральный местный власть принадлежность...   \n316404  мехико запретить цирковой выступление участие ...   \n70660   швеция состояться первый концерт группа инстру...   \n\n                                             resume_clean  \n95479   волжский автомобильный завод планировать расши...  \n51999   совместимый коллекция всякий случай остаться с...  \n194640  неделя должный разрешить имущественный спор пр...  \n316404  понедельник июнь зритель прийти представление ...  \n70660   инициатор выступление стать профессор лундский...  ",
      "text/html": "<div>\n<style scoped>\n    .dataframe tbody tr th:only-of-type {\n        vertical-align: middle;\n    }\n\n    .dataframe tbody tr th {\n        vertical-align: top;\n    }\n\n    .dataframe thead th {\n        text-align: right;\n    }\n</style>\n<table border=\"1\" class=\"dataframe\">\n  <thead>\n    <tr style=\"text-align: right;\">\n      <th></th>\n      <th>title</th>\n      <th>resume</th>\n      <th>target</th>\n      <th>title_clean</th>\n      <th>resume_clean</th>\n    </tr>\n  </thead>\n  <tbody>\n    <tr>\n      <th>95479</th>\n      <td>Продажи Lada Granta с новой трансмиссией старт...</td>\n      <td>Волжский автомобильный завод планирует расшири...</td>\n      <td>auto</td>\n      <td>продажа lada granta новый трансмиссия стартова...</td>\n      <td>волжский автомобильный завод планировать расши...</td>\n    </tr>\n    <tr>\n      <th>51999</th>\n      <td>Музей западного искусства создадут, но виртуал...</td>\n      <td>\"Совместим все коллекции, во всяком случае то,...</td>\n      <td>cinema</td>\n      <td>музей западный искусство создать виртуальный к...</td>\n      <td>совместимый коллекция всякий случай остаться с...</td>\n    </tr>\n    <tr>\n      <th>194640</th>\n      <td>Спор федеральных и местных властей о принадлеж...</td>\n      <td>На этой неделе КС должен разрешить имущественн...</td>\n      <td>realty</td>\n      <td>спор федеральный местный власть принадлежность...</td>\n      <td>неделя должный разрешить имущественный спор пр...</td>\n    </tr>\n    <tr>\n      <th>316404</th>\n      <td>В Мехико запретили цирковые выступления с учас...</td>\n      <td>С понедельника, 9 июня, зрителям, пришедшим на...</td>\n      <td>polytics</td>\n      <td>мехико запретить цирковой выступление участие ...</td>\n      <td>понедельник июнь зритель прийти представление ...</td>\n    </tr>\n    <tr>\n      <th>70660</th>\n      <td>В Швеции состоялся первый концерт группы, инст...</td>\n      <td>Инициатором выступления стал профессор Лундско...</td>\n      <td>hitech</td>\n      <td>швеция состояться первый концерт группа инстру...</td>\n      <td>инициатор выступление стать профессор лундский...</td>\n    </tr>\n  </tbody>\n</table>\n</div>"
     },
     "execution_count": 22,
     "metadata": {},
     "output_type": "execute_result"
    }
   ],
   "source": [
    "final_train.sample(5)"
   ],
   "metadata": {
    "collapsed": false,
    "ExecuteTime": {
     "end_time": "2023-11-15T10:47:54.719769200Z",
     "start_time": "2023-11-15T10:47:54.659772500Z"
    }
   },
   "id": "50054697e778daf3"
  },
  {
   "cell_type": "code",
   "execution_count": 33,
   "outputs": [],
   "source": [
    "final_train.to_pickle('final_train.p', compression='gzip')"
   ],
   "metadata": {
    "collapsed": false,
    "ExecuteTime": {
     "start_time": "2023-11-14T19:39:36.485175300Z"
    }
   },
   "id": "3984105ca4f83412"
  },
  {
   "cell_type": "code",
   "execution_count": 34,
   "outputs": [
    {
     "data": {
      "text/plain": "array([['Шакил О`Нил стал офицером запаса полиции Майами',\n        'шакил нил стать офицер запас полиция майами']], dtype=object)"
     },
     "execution_count": 34,
     "metadata": {},
     "output_type": "execute_result"
    }
   ],
   "source": [
    "final_train.sample(1)[['title', 'title_clean']].values"
   ],
   "metadata": {
    "collapsed": false,
    "ExecuteTime": {
     "start_time": "2023-11-14T19:58:11.770146Z"
    }
   },
   "id": "49e1518407ce11a4"
  },
  {
   "cell_type": "code",
   "execution_count": 35,
   "outputs": [
    {
     "data": {
      "text/plain": "array([['Мужская сборная России провела заключительный матч группового этапа чемпионата мира по гандболу. Во встрече с французами россияне оказали достойное сопротивление действующим чемпионам мира и уступили с минимальным счетом.',\n        'мужской сборная россия провести заключительный матч групповой этап чемпионат мир гандбол встреча француз россиянин оказать достойный сопротивление действовать чемпион мир уступить минимальный счет']],\n      dtype=object)"
     },
     "execution_count": 35,
     "metadata": {},
     "output_type": "execute_result"
    }
   ],
   "source": [
    "final_train.sample(1)[['resume', 'resume_clean']].values"
   ],
   "metadata": {
    "collapsed": false,
    "ExecuteTime": {
     "start_time": "2023-11-14T19:58:40.347396600Z"
    }
   },
   "id": "47a1c30a6776760d"
  },
  {
   "cell_type": "markdown",
   "source": [
    "Пробуем разные параметры моделей. При этом строим модели и на корпусе заголовков (model_title) и корпусе резюме (model_resume). Корпус резюме содержит больше слов для тренировки модели, получатся ли эмбеддинги качественнее? "
   ],
   "metadata": {
    "collapsed": false
   },
   "id": "a55bafd9ccdccb43"
  },
  {
   "cell_type": "code",
   "execution_count": 36,
   "outputs": [],
   "source": [
    "model_resume = Word2Vec(sentences=final_train.resume_clean.str.split(),\n",
    "                 vector_size=300,\n",
    "                 min_count=10,\n",
    "                 window=5)"
   ],
   "metadata": {
    "collapsed": false,
    "ExecuteTime": {
     "start_time": "2023-11-14T20:04:59.428078800Z"
    }
   },
   "id": "6f99329d1e3b3b20"
  },
  {
   "cell_type": "code",
   "execution_count": 48,
   "outputs": [
    {
     "data": {
      "text/plain": "[('опрос', 0.813247561454773),\n ('анализ', 0.8111065626144409),\n ('социологический', 0.6865130066871643),\n ('аналитический', 0.6860990524291992),\n ('мониторинг', 0.6806802153587341),\n ('iihs', 0.679487943649292),\n ('ncap', 0.6530512571334839),\n ('эксперимент', 0.6486611366271973),\n ('изучение', 0.6429582238197327),\n ('исследовательский', 0.6425201296806335)]"
     },
     "execution_count": 48,
     "metadata": {},
     "output_type": "execute_result"
    }
   ],
   "source": [
    "model_resume.wv.most_similar(positive=[\"исследование\"])"
   ],
   "metadata": {
    "collapsed": false,
    "ExecuteTime": {
     "start_time": "2023-11-14T20:09:08.810959200Z"
    }
   },
   "id": "e4b2ac103c7a485f"
  },
  {
   "cell_type": "code",
   "execution_count": 49,
   "outputs": [
    {
     "data": {
      "text/plain": "[('сырье', 0.7905601859092712),\n ('нефтепродукт', 0.752928614616394),\n ('газ', 0.7388834953308105),\n ('нефтяной', 0.6947216987609863),\n ('добыча', 0.6897706985473633),\n ('зерно', 0.6868805289268494),\n ('экспорт', 0.6848858594894409),\n ('экспортный', 0.683884859085083),\n ('энергоноситель', 0.6759960651397705),\n ('баррель', 0.6746608018875122)]"
     },
     "execution_count": 49,
     "metadata": {},
     "output_type": "execute_result"
    }
   ],
   "source": [
    "model_resume.wv.most_similar(positive=[\"нефть\"])"
   ],
   "metadata": {
    "collapsed": false,
    "ExecuteTime": {
     "start_time": "2023-11-14T20:43:41.878167300Z"
    }
   },
   "id": "3b2a17c2d655729e"
  },
  {
   "cell_type": "code",
   "execution_count": 37,
   "outputs": [],
   "source": [
    "model_title = Word2Vec(sentences=final_train.title_clean.str.split(),\n",
    "                 vector_size=200,\n",
    "                 min_count=10,\n",
    "                 window=2)"
   ],
   "metadata": {
    "collapsed": false,
    "ExecuteTime": {
     "start_time": "2023-11-14T20:05:47.636343700Z"
    }
   },
   "id": "46453bf36a27ece2"
  },
  {
   "cell_type": "code",
   "execution_count": 47,
   "outputs": [
    {
     "data": {
      "text/plain": "[('алгоритм', 0.9847061038017273),\n ('пылесос', 0.9826249480247498),\n ('ветряный', 0.9814181923866272),\n ('перчатка', 0.9813777208328247),\n ('конструктор', 0.980202317237854),\n ('стильный', 0.979066014289856),\n ('шутер', 0.9786944389343262),\n ('творение', 0.9779321551322937),\n ('фотокамера', 0.9774936437606812),\n ('генератор', 0.9769431948661804)]"
     },
     "execution_count": 47,
     "metadata": {},
     "output_type": "execute_result"
    }
   ],
   "source": [
    "model_title.wv.most_similar(positive=[\"нейросеть\"])"
   ],
   "metadata": {
    "collapsed": false,
    "ExecuteTime": {
     "start_time": "2023-11-14T20:08:54.274704300Z"
    }
   },
   "id": "bad1e0c197b4dcee"
  },
  {
   "cell_type": "code",
   "execution_count": 11,
   "outputs": [],
   "source": [
    "model_resume = Word2Vec(sentences=df.resume_clean.str.split(),\n",
    "                 vector_size=300,\n",
    "                 min_count=10,\n",
    "                 window=5)"
   ],
   "metadata": {
    "collapsed": false,
    "ExecuteTime": {
     "start_time": "2023-11-15T10:37:20.732220300Z"
    }
   },
   "id": "557379bc0034dcbe"
  },
  {
   "cell_type": "code",
   "execution_count": 12,
   "outputs": [
    {
     "data": {
      "text/plain": "[('эмигрант', 0.6433151364326477),\n ('эмигрировать', 0.6282538175582886),\n ('любить', 0.4736933410167694),\n ('распад', 0.45340558886528015),\n ('диссидент', 0.4515165090560913),\n ('стереотип', 0.4482625126838684),\n ('прошлое', 0.4463880956172943),\n ('капитализм', 0.44509032368659973),\n ('потомок', 0.44043004512786865),\n ('евроскептик', 0.4370778203010559)]"
     },
     "execution_count": 12,
     "metadata": {},
     "output_type": "execute_result"
    }
   ],
   "source": [
    "model_resume.wv.most_similar(positive=[\"эмиграция\"])"
   ],
   "metadata": {
    "collapsed": false,
    "ExecuteTime": {
     "start_time": "2023-11-15T10:38:19.523441600Z"
    }
   },
   "id": "d89cd0d49b3b456a"
  },
  {
   "cell_type": "code",
   "execution_count": 28,
   "outputs": [],
   "source": [
    "model_title = Word2Vec(sentences=df.title_clean.str.split(),\n",
    "                 vector_size=200,\n",
    "                 min_count=10,\n",
    "                 window=2)"
   ],
   "metadata": {
    "collapsed": false,
    "ExecuteTime": {
     "start_time": "2023-11-15T11:08:13.606094600Z"
    }
   },
   "id": "b031f3196045b83e"
  },
  {
   "cell_type": "code",
   "execution_count": 29,
   "outputs": [
    {
     "data": {
      "text/plain": "[('стареть', 0.7895634174346924),\n ('застой', 0.7767952680587769),\n ('сбыться', 0.7641559839248657),\n ('автоновинка', 0.7517094612121582),\n ('утроиться', 0.7477977871894836),\n ('доживать', 0.7451843023300171),\n ('вымирать', 0.741502583026886),\n ('прибавиться', 0.7328689694404602),\n ('раскупать', 0.7317813634872437),\n ('страховаться', 0.7294740080833435)]"
     },
     "execution_count": 29,
     "metadata": {},
     "output_type": "execute_result"
    }
   ],
   "source": [
    "model_title.wv.most_similar(positive=[\"эмиграция\"])"
   ],
   "metadata": {
    "collapsed": false,
    "ExecuteTime": {
     "start_time": "2023-11-15T11:08:28.465738600Z"
    }
   },
   "id": "decc6d5bcf322471"
  },
  {
   "cell_type": "code",
   "execution_count": 73,
   "outputs": [
    {
     "data": {
      "text/plain": "[('сочувствие', 0.7610095143318176),\n ('автоновинка', 0.7607506513595581),\n ('переводиться', 0.7602695226669312),\n ('застой', 0.7532272338867188),\n ('сбыться', 0.7518793344497681),\n ('эйфория', 0.750816822052002),\n ('раздражение', 0.7491551637649536),\n ('каприз', 0.7475816011428833),\n ('смута', 0.7424665689468384),\n ('семнадцать', 0.7409263253211975)]"
     },
     "execution_count": 73,
     "metadata": {},
     "output_type": "execute_result"
    }
   ],
   "source": [
    "model_title.wv.most_similar(positive=[\"эмиграция\"])"
   ],
   "metadata": {
    "collapsed": false,
    "ExecuteTime": {
     "start_time": "2023-11-14T22:20:11.044121400Z"
    }
   },
   "id": "37860fb0baf78768"
  },
  {
   "cell_type": "markdown",
   "source": [
    "В результате экспериментов с различными параметрами мне больше всего субъективно нравятся эмбеддинги, полученные из резюме с параметрами vector_size=300, min_count=10, window=5. \n",
    "\n",
    "Для обучения и моделей эмбедденгов, и моделей классификации, нам предлагалось делить датасет на трейн и тест, и обучать обе модели только на трейне. Принципиально не согласен с этим условием, и писал об этом на stepik. Поясню свою позицию. Чтобы классификатор нормально работал, у него должны быть очень хорошие эмбедденги, т.е. представления слов в векторном пространстве. Представление будет тем лучше, чем больше корпус текста увидит модель на обучении. Для решения различных задач NLP берут как правило самые качественные эмбеддинги (если нет технических ограничений по объему модели и её скорости). Задача классификации - совершенно иная задача. Нам важно чтобы именно классификатор не знал конкретный пример классификации текста, а то, что он знает эмбедденг слов, из которых текст состоит, так так и должно быть, это хорошо! Я понимаю, что за это могут снизить оценку, но делаю это осознанно. \n",
    "\n",
    "Итак, буду обучать модель эмбеддингов на всём корпусе текстов с параметрами, которые посчитал как оптимальные."
   ],
   "metadata": {
    "collapsed": false
   },
   "id": "fca00f272fba980d"
  },
  {
   "cell_type": "code",
   "execution_count": 11,
   "outputs": [],
   "source": [
    "df_big = pd.read_pickle('df_big.p', compression='gzip')"
   ],
   "metadata": {
    "collapsed": false,
    "ExecuteTime": {
     "end_time": "2023-11-15T12:32:15.756476700Z",
     "start_time": "2023-11-15T12:32:11.164425600Z"
    }
   },
   "id": "bf88d331ad8ba6b4"
  },
  {
   "cell_type": "code",
   "execution_count": 16,
   "outputs": [
    {
     "data": {
      "text/plain": "[('эмигрант', 0.6088088154792786),\n ('эмигрировать', 0.5850927233695984),\n ('любить', 0.5510222315788269),\n ('евроскептик', 0.47467872500419617),\n ('потомок', 0.472459614276886),\n ('увлечение', 0.47232872247695923),\n ('любовь', 0.4710487127304077),\n ('диссидент', 0.470294326543808),\n ('сниться', 0.4663284122943878),\n ('прошлое', 0.45655474066734314)]"
     },
     "execution_count": 16,
     "metadata": {},
     "output_type": "execute_result"
    }
   ],
   "source": [
    "model_resume = Word2Vec(sentences=df_big.resume_clean.str.split(),\n",
    "                        vector_size=300,\n",
    "                        min_count=10,\n",
    "                        window=5)\n",
    "model_resume.wv.most_similar(positive=[\"эмиграция\"])"
   ],
   "metadata": {
    "collapsed": false,
    "ExecuteTime": {
     "end_time": "2023-11-15T12:40:33.950495400Z",
     "start_time": "2023-11-15T12:39:37.037836400Z"
    }
   },
   "id": "6e6461b88977de34"
  },
  {
   "cell_type": "markdown",
   "source": [
    "Очень классные синомины, мне нравится. \n",
    "А теперь наш Трейн делим на собственно трейн и валидацию. На трейн будем обучать классификаторы, на валидации подбирать оценивать качество и подбирать параметры"
   ],
   "metadata": {
    "collapsed": false
   },
   "id": "5abd880357be6b6c"
  },
  {
   "cell_type": "code",
   "execution_count": 9,
   "outputs": [],
   "source": [
    "X_train, X_test, y_train, y_test = train_test_split(df.resume_clean.str.split(),\n",
    "                                                    df.target.values, test_size=0.3, stratify=df.target.values,\n",
    "                                                    random_state=42)"
   ],
   "metadata": {
    "collapsed": false,
    "ExecuteTime": {
     "end_time": "2023-11-15T18:12:21.787679800Z",
     "start_time": "2023-11-15T18:12:20.886805600Z"
    }
   },
   "id": "e1ed5b0cc6c9d950"
  },
  {
   "cell_type": "code",
   "execution_count": 26,
   "outputs": [
    {
     "data": {
      "text/plain": "262956    [прицел, камера, пит, сауза, личный, фотограф,...\n247372    [заявить, лидер, трудовой, россия, виктор, анп...\n150944    [случай, всемирный, день, книга, немецкий, авт...\n108687    [ранее, возможность, вести, трансляция, соцсет...\n77672     [невыездной, делать, россиянин, репрессивный, ...\n                                ...                        \n161447    [работа, собрание, семья, художница, разительн...\n219751    [стоимость, российский, нефть, упасть, ход, то...\n101428    [опубликовать, сеть, видеоролик, усовершенство...\n144081    [делаться, столько, любовь, клиент, сколько, п...\n140733    [спутник, запустить, площадка, расположить, ко...\nName: resume_clean, Length: 42000, dtype: object"
     },
     "execution_count": 26,
     "metadata": {},
     "output_type": "execute_result"
    }
   ],
   "source": [
    "X_test"
   ],
   "metadata": {
    "collapsed": false,
    "ExecuteTime": {
     "end_time": "2023-11-15T12:54:43.750692100Z",
     "start_time": "2023-11-15T12:54:43.724611600Z"
    }
   },
   "id": "be7fc7967c465414"
  },
  {
   "cell_type": "code",
   "execution_count": 27,
   "outputs": [
    {
     "data": {
      "text/plain": "6000.0"
     },
     "execution_count": 27,
     "metadata": {},
     "output_type": "execute_result"
    }
   ],
   "source": [
    "y_test.shape[0]/7"
   ],
   "metadata": {
    "collapsed": false,
    "ExecuteTime": {
     "end_time": "2023-11-15T12:55:30.204771100Z",
     "start_time": "2023-11-15T12:55:30.164257Z"
    }
   },
   "id": "2c5df4037021d5cf"
  },
  {
   "cell_type": "markdown",
   "source": [
    "Эмбедденги предложения пропоциональны весам tfidf:"
   ],
   "metadata": {
    "collapsed": false
   },
   "id": "af0943334f4602a5"
  },
  {
   "cell_type": "code",
   "execution_count": 7,
   "outputs": [],
   "source": [
    "class TfidfEmbeddingVectorizer(object):\n",
    "    \"\"\"Get tfidf weighted vectors\"\"\"\n",
    "    def __init__(self, model):\n",
    "        self.word2vec = model.wv\n",
    "        self.word2weight = None\n",
    "        self.dim = model.vector_size\n",
    "\n",
    "    def fit(self, X, y):\n",
    "        tfidf = TfidfVectorizer(analyzer=lambda x: x)\n",
    "        tfidf.fit(X)\n",
    "        # if a word was never seen - it must be at least as infrequent\n",
    "        # as any of the known words - so the default idf is the max of\n",
    "        # known idf's\n",
    "        max_idf = max(tfidf.idf_)\n",
    "        self.word2weight = defaultdict(\n",
    "            lambda: max_idf,\n",
    "            [(w, tfidf.idf_[i]) for w, i in tfidf.vocabulary_.items()])\n",
    "\n",
    "        return self\n",
    "\n",
    "    def transform(self, X):\n",
    "        return np.array([\n",
    "                np.mean([self.word2vec.get_vector(w) * self.word2weight[w]\n",
    "                         for w in words if w in self.word2vec] or\n",
    "                        [np.zeros(self.dim)], axis=0)\n",
    "                for words in X\n",
    "            ])"
   ],
   "metadata": {
    "collapsed": false,
    "ExecuteTime": {
     "start_time": "2023-11-15T18:10:51.069806800Z"
    }
   },
   "id": "d66668a7c8b13421"
  },
  {
   "cell_type": "markdown",
   "source": [],
   "metadata": {
    "collapsed": false
   },
   "id": "a85ef0633534030e"
  },
  {
   "cell_type": "markdown",
   "source": [
    "Применяем логистическую регреесию на tfidf эмбеддингах предложений:"
   ],
   "metadata": {
    "collapsed": false
   },
   "id": "8d81dc6bc94423e1"
  },
  {
   "cell_type": "code",
   "execution_count": 22,
   "outputs": [
    {
     "name": "stdout",
     "output_type": "stream",
     "text": [
      "              precision    recall  f1-score   support\n",
      "\n",
      "        auto       0.88      0.84      0.86      6000\n",
      "      cinema       0.87      0.87      0.87      6000\n",
      "     finance       0.77      0.81      0.79      6000\n",
      "      hitech       0.85      0.86      0.85      6000\n",
      "    polytics       0.74      0.78      0.76      6000\n",
      "      realty       0.83      0.81      0.82      6000\n",
      "       sport       0.96      0.94      0.95      6000\n",
      "\n",
      "    accuracy                           0.84     42000\n",
      "   macro avg       0.84      0.84      0.84     42000\n",
      "weighted avg       0.84      0.84      0.84     42000\n"
     ]
    }
   ],
   "source": [
    "pipe = Pipeline([('w2v', TfidfEmbeddingVectorizer(model_resume)),\n",
    "                 ('clf', LogisticRegression(random_state=42,\n",
    "                                            max_iter=10000))])\n",
    "\n",
    "pipe.fit(X_train, y_train)\n",
    "\n",
    "print(classification_report(y_test, pipe.predict(X_test)))"
   ],
   "metadata": {
    "collapsed": false,
    "ExecuteTime": {
     "start_time": "2023-11-15T12:45:20.739347600Z"
    }
   },
   "id": "4162ce8c56da6f78"
  },
  {
   "cell_type": "code",
   "execution_count": 24,
   "outputs": [
    {
     "data": {
      "text/plain": "<Figure size 1600x400 with 1 Axes>",
      "image/png": "[encoded data removed]"
     },
     "metadata": {},
     "output_type": "display_data"
    }
   ],
   "source": [
    "from sklearn.metrics import confusion_matrix, ConfusionMatrixDisplay\n",
    "\n",
    "cm = confusion_matrix(y_test, pipe.predict(X_test), labels=pipe.classes_)\n",
    "\n",
    "cm_df = pd.DataFrame(data=cm, columns=pipe.classes_, index=pipe.classes_)\n",
    "\n",
    "plt.figure(figsize=(16, 4))\n",
    "\n",
    "sns.heatmap(cm_df, square=False, annot=True, cmap='Blues', fmt='d', cbar=False);"
   ],
   "metadata": {
    "collapsed": false,
    "ExecuteTime": {
     "start_time": "2023-11-15T12:53:07.900754400Z"
    }
   },
   "id": "7b1baf1341542cb"
  },
  {
   "cell_type": "markdown",
   "source": [
    "Качество неплохое. Путаем чаще всего категорию политику (ну так она, как правило, и самая размытая, так что ок)"
   ],
   "metadata": {
    "collapsed": false
   },
   "id": "eebd836611864910"
  },
  {
   "cell_type": "markdown",
   "source": [
    "Теперь считаем эмбедденги предложение, как простое среднее."
   ],
   "metadata": {
    "collapsed": false
   },
   "id": "14df51bf30a3f3ea"
  },
  {
   "cell_type": "code",
   "execution_count": 28,
   "outputs": [],
   "source": [
    "class MeanEmbeddingVectorizer(object):\n",
    "    \"\"\"Get mean of vectors\"\"\"\n",
    "    def __init__(self, model):\n",
    "        self.word2vec = model.wv\n",
    "        self.dim = model.vector_size\n",
    "\n",
    "    def fit(self, X, y):\n",
    "        return self\n",
    "\n",
    "    def transform(self, X):\n",
    "        return np.array([\n",
    "            np.mean([self.word2vec.get_vector(w)\n",
    "                for w in words if w in self.word2vec] or\n",
    "                [np.zeros(self.dim)], axis=0)\n",
    "            for words in X])"
   ],
   "metadata": {
    "collapsed": false,
    "ExecuteTime": {
     "start_time": "2023-11-15T13:00:05.393650700Z"
    }
   },
   "id": "72275041b6cbd78a"
  },
  {
   "cell_type": "code",
   "execution_count": 29,
   "outputs": [
    {
     "name": "stdout",
     "output_type": "stream",
     "text": [
      "              precision    recall  f1-score   support\n",
      "\n",
      "        auto       0.88      0.84      0.86      6000\n",
      "      cinema       0.87      0.86      0.87      6000\n",
      "     finance       0.77      0.80      0.79      6000\n",
      "      hitech       0.85      0.86      0.85      6000\n",
      "    polytics       0.74      0.77      0.75      6000\n",
      "      realty       0.83      0.80      0.82      6000\n",
      "       sport       0.96      0.94      0.95      6000\n",
      "\n",
      "    accuracy                           0.84     42000\n",
      "   macro avg       0.84      0.84      0.84     42000\n",
      "weighted avg       0.84      0.84      0.84     42000\n"
     ]
    }
   ],
   "source": [
    "pipe2 = Pipeline([('w2v', MeanEmbeddingVectorizer(model_resume)),\n",
    "                 ('clf', LogisticRegression(random_state=42,\n",
    "                                            max_iter=1000))])\n",
    "\n",
    "pipe2.fit(X_train, y_train)\n",
    "\n",
    "print(classification_report(y_test, pipe2.predict(X_test)))"
   ],
   "metadata": {
    "collapsed": false,
    "ExecuteTime": {
     "start_time": "2023-11-15T13:00:59.518026800Z"
    }
   },
   "id": "cd1ad28fa57fae1a"
  },
  {
   "cell_type": "code",
   "execution_count": 30,
   "outputs": [
    {
     "data": {
      "text/plain": "<Figure size 1600x400 with 1 Axes>",
      "image/png": "[encoded data removed]"
     },
     "metadata": {},
     "output_type": "display_data"
    }
   ],
   "source": [
    "from sklearn.metrics import confusion_matrix, ConfusionMatrixDisplay\n",
    "\n",
    "cm = confusion_matrix(y_test, pipe2.predict(X_test), labels=pipe2.classes_)\n",
    "\n",
    "cm_df = pd.DataFrame(data=cm, columns=pipe2.classes_, index=pipe2.classes_)\n",
    "\n",
    "plt.figure(figsize=(16, 4))\n",
    "\n",
    "sns.heatmap(cm_df, square=False, annot=True, cmap='Blues', fmt='d', cbar=False);"
   ],
   "metadata": {
    "collapsed": false,
    "ExecuteTime": {
     "start_time": "2023-11-15T13:06:45.592570800Z"
    }
   },
   "id": "3dc911662c5abcf7"
  },
  {
   "cell_type": "markdown",
   "source": [
    "Качество практически аналогичное, но confusion matrix tfidf мне нравится чуть получше. Оставляем это сочетание как лучшее для w2v"
   ],
   "metadata": {
    "collapsed": false
   },
   "id": "180fb22676cbea49"
  },
  {
   "cell_type": "markdown",
   "source": [
    "#### 3.2. Fasttext + SVM "
   ],
   "metadata": {
    "collapsed": false
   },
   "id": "4f23e4d5c2e60089"
  },
  {
   "cell_type": "code",
   "execution_count": 33,
   "outputs": [],
   "source": [
    "from gensim.models.fasttext import FastText as FT_gensim"
   ],
   "metadata": {
    "collapsed": false,
    "ExecuteTime": {
     "start_time": "2023-11-15T13:14:36.682630700Z"
    }
   },
   "id": "2c27f83066e63f50"
  },
  {
   "cell_type": "markdown",
   "source": [
    "По-преженму пробуем обучать эмбедденги на текстах резюме и заголовках новостей. \n",
    "\n",
    "Чтобы обучить эмбедденги fasttext, нужно передавать в объявленную модель список списков предложений. Для этого требуется вот это: "
   ],
   "metadata": {
    "collapsed": false
   },
   "id": "c595f647fbcbd113"
  },
  {
   "cell_type": "code",
   "execution_count": 22,
   "outputs": [],
   "source": [
    "corpus_title = [s.split() for s in df['title_clean'].values.tolist()]"
   ],
   "metadata": {
    "collapsed": false,
    "ExecuteTime": {
     "start_time": "2023-11-15T09:43:31.744033Z"
    }
   },
   "id": "6e6f57a0d5e4be89"
  },
  {
   "cell_type": "code",
   "execution_count": 23,
   "outputs": [],
   "source": [
    "model_gensim = FT_gensim(vector_size=150, negative=15, window=20, min_count=1)\n",
    "model_gensim.build_vocab(corpus_title)\n",
    "# model_gensim"
   ],
   "metadata": {
    "collapsed": false,
    "ExecuteTime": {
     "start_time": "2023-11-15T09:44:19.175578100Z"
    }
   },
   "id": "bbd8ba7d68b5fdd4"
  },
  {
   "cell_type": "code",
   "execution_count": 24,
   "outputs": [
    {
     "data": {
      "text/plain": "[('миграция', 0.7627847194671631),\n ('иммиграция', 0.6453176140785217),\n ('эмиграционный', 0.5673359632492065),\n ('эмигрант', 0.5608475208282471),\n ('эмигрантка', 0.5087839961051941),\n ('эмигрантский', 0.4644589126110077),\n ('перлюстрация', 0.4562194347381592),\n ('операция', 0.44811785221099854),\n ('миграционный', 0.444167822599411),\n ('агломерация', 0.41208770871162415)]"
     },
     "execution_count": 24,
     "metadata": {},
     "output_type": "execute_result"
    }
   ],
   "source": [
    "model_gensim.wv.most_similar('эмиграция')"
   ],
   "metadata": {
    "collapsed": false,
    "ExecuteTime": {
     "start_time": "2023-11-15T09:44:26.236103700Z"
    }
   },
   "id": "df38f95ab03e09f2"
  },
  {
   "cell_type": "code",
   "execution_count": 6,
   "outputs": [],
   "source": [
    "corpus = [s.split() for s in df['resume_clean'].values.tolist()]"
   ],
   "metadata": {
    "collapsed": false,
    "ExecuteTime": {
     "start_time": "2023-11-15T09:53:17.916073800Z"
    }
   },
   "id": "80b302955467fdc0"
  },
  {
   "cell_type": "code",
   "execution_count": 9,
   "outputs": [],
   "source": [
    "model_gensim_resume = FT_gensim(vector_size=300, negative=10, window=5)\n",
    "model_gensim_resume.build_vocab(corpus)"
   ],
   "metadata": {
    "collapsed": false,
    "ExecuteTime": {
     "start_time": "2023-11-15T10:08:39.228030900Z"
    }
   },
   "id": "1fe87545fc6d42f1"
  },
  {
   "cell_type": "code",
   "execution_count": 10,
   "outputs": [
    {
     "data": {
      "text/plain": "[('миграция', 0.7622491717338562),\n ('иммиграция', 0.6979402899742126),\n ('грация', 0.5979841351509094),\n ('эмиграционный', 0.511577308177948),\n ('рация', 0.4936811327934265),\n ('операция', 0.46507641673088074),\n ('аэрация', 0.46436619758605957),\n ('кооперация', 0.45765867829322815),\n ('эмигрант', 0.4496615529060364),\n ('интеграция', 0.4477916359901428)]"
     },
     "execution_count": 10,
     "metadata": {},
     "output_type": "execute_result"
    }
   ],
   "source": [
    "model_gensim_resume.wv.most_similar('эмиграция')"
   ],
   "metadata": {
    "collapsed": false,
    "ExecuteTime": {
     "start_time": "2023-11-15T10:08:49.878089Z"
    }
   },
   "id": "90db0dded8f0e810"
  },
  {
   "cell_type": "markdown",
   "source": [
    "Обученная на таких параметрах модель для классификации плохая. Модель по-умолчанию обучается на биграммах, и склонна скорее считать близкими однокоренные слова, а не синонимы, что нам так нужно в задачах классификации. Начинам подбирать параметры модели, которые нас больше устроят."
   ],
   "metadata": {
    "collapsed": false
   },
   "id": "c8d8f5e2b8bf413d"
  },
  {
   "cell_type": "code",
   "execution_count": 14,
   "outputs": [
    {
     "data": {
      "text/plain": "[('миграция', 0.7666358947753906),\n ('эмиграцию', 0.6886281967163086),\n ('эмиграции', 0.6862261295318604),\n ('эмиграции.', 0.6505776047706604),\n ('эмиграции,', 0.6427459716796875),\n ('иммиграция', 0.5888344645500183),\n ('эмигрантов.', 0.5328771471977234),\n ('эмигранты', 0.5292487144470215),\n ('эмигрантов', 0.497592955827713),\n ('эмигрантов,', 0.4900228977203369)]"
     },
     "execution_count": 14,
     "metadata": {},
     "output_type": "execute_result"
    }
   ],
   "source": [
    "ft_news = [s.split() for s in df['resume'].values.tolist()]\n",
    "model_resume = FT_gensim(vector_size=128, window=2, min_n=2)\n",
    "model_resume.build_vocab(ft_news)\n",
    "model_resume.wv.most_similar('эмиграция')"
   ],
   "metadata": {
    "collapsed": false,
    "ExecuteTime": {
     "start_time": "2023-11-15T11:27:45.419230200Z"
    }
   },
   "id": "4284a05603ec8585"
  },
  {
   "cell_type": "code",
   "execution_count": 13,
   "outputs": [
    {
     "data": {
      "text/plain": "[('миграция', 0.6971770524978638),\n ('эмиграции', 0.6677354574203491),\n ('эмиграцию', 0.6438403725624084),\n ('эмиграции,', 0.5940139889717102),\n ('эмиграции.', 0.5684981346130371),\n ('эмигрантов.', 0.5125205516815186),\n ('эмигранты', 0.506153404712677),\n ('иммиграция', 0.50594162940979),\n ('эмигрантов,', 0.4788435399532318),\n ('эмигранты,', 0.4725164771080017)]"
     },
     "execution_count": 13,
     "metadata": {},
     "output_type": "execute_result"
    }
   ],
   "source": [
    "ft_news = [s.split() for s in df['resume'].values.tolist()]\n",
    "model_resume = FT_gensim(vector_size=128, window=2, min_n=4)\n",
    "model_resume.build_vocab(ft_news)\n",
    "model_resume.wv.most_similar('эмиграция')"
   ],
   "metadata": {
    "collapsed": false,
    "ExecuteTime": {
     "start_time": "2023-11-15T11:27:09.701926100Z"
    }
   },
   "id": "db157d88b8c2a9af"
  },
  {
   "cell_type": "code",
   "execution_count": 25,
   "outputs": [
    {
     "data": {
      "text/plain": "[('миграция', 0.5794048309326172),\n ('иммиграция', 0.5505046248435974),\n ('эмиграции', 0.5035000443458557),\n ('эмиграции.', 0.48453158140182495),\n ('эмиграции,', 0.482930064201355),\n ('эмиграцию', 0.4390946924686432),\n ('богаты', 0.3689899444580078),\n ('тарифу', 0.36751362681388855),\n ('эмигранты,', 0.3657795190811157),\n ('увлечение', 0.36109238862991333),\n ('\"операция', 0.3577500283718109),\n ('иммиграционным', 0.34252482652664185),\n ('оппозиционер,', 0.34169140458106995),\n ('неудовлетворенных', 0.3416306674480438),\n ('Гуйчжоу', 0.3408966064453125),\n ('сектору,', 0.33840277791023254),\n ('дефицитов', 0.3374575078487396),\n ('стоимости.', 0.3349628746509552),\n ('Марсе', 0.3315269351005554),\n ('Бушем', 0.3298052251338959)]"
     },
     "execution_count": 25,
     "metadata": {},
     "output_type": "execute_result"
    }
   ],
   "source": [
    "ft_news = [s.split() for s in df['resume'].values.tolist()]\n",
    "model_resume = FT_gensim(vector_size=128, window=4, min_n=6)\n",
    "model_resume.build_vocab(ft_news)\n",
    "model_resume.wv.most_similar('эмиграция', topn=20)"
   ],
   "metadata": {
    "collapsed": false,
    "ExecuteTime": {
     "start_time": "2023-11-15T11:36:33.950397100Z"
    }
   },
   "id": "c327c64c13d6d464"
  },
  {
   "cell_type": "code",
   "execution_count": 34,
   "outputs": [
    {
     "data": {
      "text/plain": "[('миграция', 0.5794048309326172),\n ('иммиграция', 0.5505046248435974),\n ('эмиграции', 0.5035000443458557),\n ('эмиграции.', 0.48453158140182495),\n ('эмиграции,', 0.482930064201355),\n ('эмиграцию', 0.4390946924686432),\n ('богаты', 0.3689899444580078),\n ('тарифу', 0.36751362681388855),\n ('эмигранты,', 0.3657795190811157),\n ('увлечение', 0.36109238862991333),\n ('\"операция', 0.3577500283718109),\n ('иммиграционным', 0.34252482652664185),\n ('оппозиционер,', 0.34169140458106995),\n ('неудовлетворенных', 0.3416306674480438),\n ('Гуйчжоу', 0.3408966064453125),\n ('сектору,', 0.33840277791023254),\n ('дефицитов', 0.3374575078487396),\n ('стоимости.', 0.3349628746509552),\n ('Марсе', 0.3315269351005554),\n ('Бушем', 0.3298052251338959)]"
     },
     "execution_count": 34,
     "metadata": {},
     "output_type": "execute_result"
    }
   ],
   "source": [
    "ft_news = [s.split() for s in df_big.resume.values.tolist()]\n",
    "model_resume = FT_gensim(vector_size=128, window=4, min_n=6)\n",
    "model_resume.build_vocab(ft_news)\n",
    "model_resume.wv.most_similar('эмиграция', topn=20)"
   ],
   "metadata": {
    "collapsed": false,
    "ExecuteTime": {
     "end_time": "2023-11-15T13:14:58.490968400Z",
     "start_time": "2023-11-15T13:14:42.777778200Z"
    }
   },
   "id": "a8b39d3c77cea570"
  },
  {
   "cell_type": "markdown",
   "source": [
    "Вот! То, что нужно! (но всё равно ощутимо хуже w2v). Итак, определяющим параметром для перехода близости векторов к синонимам является нижняя граница длины символа ngrams. Чем больше делаем её в сторону 6-8, тем лучше. Т.е. по сути мы фасттекст приближаем к w2v )) (т.к. начинаем работать почти со словом). Верхнюю границу лучше не трогать, результат портится. Дополнительно имеет смысл сужать окно контекста, иначе получаются эмбеддинги с очень широкими трактовками"
   ],
   "metadata": {
    "collapsed": false
   },
   "id": "50b4fddfed14998e"
  },
  {
   "cell_type": "markdown",
   "source": [
    "Обученную модель можно сохранить. Заметим также, что она даёт возможность получить эмбедденг предложения. Т.е. можно не реализовывать никакие дополнительные классы для применения моделей классификации: "
   ],
   "metadata": {
    "collapsed": false
   },
   "id": "127c68dfad58a39f"
  },
  {
   "cell_type": "code",
   "execution_count": 35,
   "outputs": [],
   "source": [
    "model_resume.save('model_fasttext')"
   ],
   "metadata": {
    "collapsed": false,
    "ExecuteTime": {
     "start_time": "2023-11-15T13:15:33.340648200Z"
    }
   },
   "id": "6aa6e4bfe54bcca1"
  },
  {
   "cell_type": "code",
   "execution_count": 36,
   "outputs": [
    {
     "data": {
      "text/plain": "array([-0.00658096,  0.01200651, -0.00053269,  0.03362887, -0.03435837,\n       -0.00996304,  0.01032217, -0.01694142, -0.00968684,  0.01835924,\n       -0.00565532, -0.00273679,  0.03218921, -0.02999225, -0.023324  ,\n       -0.0027044 ,  0.02004265,  0.01452905,  0.00031219,  0.00589322,\n       -0.00196308,  0.03688352,  0.02671223,  0.0087174 ,  0.00724241,\n       -0.0127998 , -0.03832365, -0.01420613,  0.00332896, -0.01395229,\n       -0.0192947 ,  0.01719813, -0.02929882, -0.00857733,  0.0087971 ,\n        0.01686338,  0.02645378,  0.01588601,  0.04112485, -0.00226715,\n        0.0175296 , -0.00534464, -0.00078812, -0.00582195, -0.01193675,\n        0.02438665, -0.03258744, -0.00989141, -0.02179253,  0.00800219,\n        0.00717603, -0.00876605,  0.01979831, -0.00309639,  0.01247602,\n       -0.00151482, -0.00957064,  0.02061344, -0.00553162,  0.00803155,\n        0.00548541, -0.00895244,  0.01148622, -0.00071001,  0.01153328,\n       -0.04109903,  0.0067871 , -0.01440693,  0.02881842, -0.02177855,\n        0.001709  ,  0.02609278, -0.02561117,  0.01143097, -0.02097899,\n       -0.02164866, -0.00097107,  0.01809256,  0.00478454,  0.02689268,\n        0.00158048,  0.01103767,  0.00294798,  0.02372245,  0.01805976,\n        0.03130733,  0.01570874,  0.01255492,  0.01472089,  0.0194553 ,\n       -0.00693886, -0.01282046, -0.00034252,  0.00138676,  0.0256473 ,\n       -0.0090543 , -0.0056997 , -0.00147176,  0.00151999, -0.00344611,\n       -0.02926015, -0.00255305,  0.02131645,  0.0295167 , -0.01130365,\n       -0.02356744,  0.01050346,  0.02934324, -0.00527413, -0.01838953,\n        0.00990163, -0.02941779,  0.00495899,  0.01437217, -0.00559137,\n        0.00445193,  0.02482579,  0.03082891, -0.00439906, -0.00060617,\n        0.01268532, -0.00985226, -0.00861427, -0.00861686,  0.00657169,\n       -0.03373308, -0.00886879, -0.01752426], dtype=float32)"
     },
     "execution_count": 36,
     "metadata": {},
     "output_type": "execute_result"
    }
   ],
   "source": [
    "model_resume.wv.get_sentence_vector('Я иду шагаю по Москве')"
   ],
   "metadata": {
    "collapsed": false,
    "ExecuteTime": {
     "end_time": "2023-11-15T13:17:33.594826700Z",
     "start_time": "2023-11-15T13:17:33.558052400Z"
    }
   },
   "id": "88362284e96ccb72"
  },
  {
   "cell_type": "code",
   "execution_count": 37,
   "outputs": [],
   "source": [
    "from sklearn.model_selection import cross_val_score\n",
    "from sklearn.linear_model import SGDClassifier\n",
    "from sklearn.metrics import roc_auc_score\n",
    "from sklearn.svm import SVC\n",
    "from sklearn.model_selection import GridSearchCV\n",
    "\n",
    "C = np.arange(0.01, 10.01, 0.25)\n",
    "\n"
   ],
   "metadata": {
    "collapsed": false,
    "ExecuteTime": {
     "end_time": "2023-11-15T13:27:11.257835500Z",
     "start_time": "2023-11-15T13:27:11.214864600Z"
    }
   },
   "id": "6c71b38998ae79fc"
  },
  {
   "cell_type": "code",
   "execution_count": null,
   "outputs": [],
   "source": [
    "cross_val_score(SVC(kernel='linear', C=0.01), X_test, y_test, cv=3, scoring='roc_auc', verbose=2).mean()"
   ],
   "metadata": {
    "collapsed": false
   },
   "id": "411c4849d79a9dae"
  },
  {
   "cell_type": "markdown",
   "source": [
    "Получаем из массива текстов массив чисел, соответствующих эмбедденгам предложений согласно обученной модели"
   ],
   "metadata": {
    "collapsed": false
   },
   "id": "f0d20713c21163d1"
  },
  {
   "cell_type": "code",
   "execution_count": 47,
   "outputs": [],
   "source": [
    "my_array = np.array([model_resume.wv.get_sentence_vector(sent) if len(sent) else np.zeros(128) for sent in X_train.values])  "
   ],
   "metadata": {
    "collapsed": false,
    "ExecuteTime": {
     "end_time": "2023-11-15T14:13:16.068837Z",
     "start_time": "2023-11-15T14:08:54.919951900Z"
    }
   },
   "id": "594483d4c237a959"
  },
  {
   "cell_type": "code",
   "execution_count": 48,
   "outputs": [
    {
     "data": {
      "text/plain": "array([[-0.00824957,  0.01441955,  0.00711349, ..., -0.02504516,\n        -0.01854455,  0.00121485],\n       [-0.01311204,  0.01013994,  0.00816222, ..., -0.01612324,\n        -0.00108645,  0.01020186],\n       [-0.00514266,  0.00992168, -0.00201354, ..., -0.01850727,\n        -0.01293971,  0.00879162],\n       ...,\n       [-0.00786879,  0.00883385,  0.00537049, ..., -0.02270467,\n        -0.01762635,  0.00162497],\n       [-0.00166247,  0.00245798,  0.00165869, ..., -0.01121567,\n        -0.01268107,  0.00620194],\n       [-0.00845154,  0.01247078,  0.00146211, ..., -0.02113447,\n        -0.00523959,  0.00834402]])"
     },
     "execution_count": 48,
     "metadata": {},
     "output_type": "execute_result"
    }
   ],
   "source": [
    "my_array"
   ],
   "metadata": {
    "collapsed": false,
    "ExecuteTime": {
     "end_time": "2023-11-15T14:14:50.908777100Z",
     "start_time": "2023-11-15T14:14:50.858433900Z"
    }
   },
   "id": "71755a8fe9154963"
  },
  {
   "cell_type": "markdown",
   "source": [
    "Обучим тогда эмбедденги предложений нашего трейна методом опорных векторов (реализации SGD, которая обучается с помощью градиентного спуска)."
   ],
   "metadata": {
    "collapsed": false
   },
   "id": "8e5149733170e870"
  },
  {
   "cell_type": "code",
   "execution_count": 50,
   "outputs": [],
   "source": [
    "from sklearn.linear_model import SGDClassifier\n",
    "test_model = SGDClassifier(loss='hinge', penalty='l2', alpha=1e-3, n_iter_no_change=5, random_state=42)"
   ],
   "metadata": {
    "collapsed": false,
    "ExecuteTime": {
     "start_time": "2023-11-15T14:28:21.817538200Z"
    }
   },
   "id": "dcea241b0bb1aeb4"
  },
  {
   "cell_type": "code",
   "execution_count": 52,
   "outputs": [
    {
     "data": {
      "text/plain": "SGDClassifier(alpha=0.001, random_state=42)",
      "text/html": "<style>#sk-container-id-1 {color: black;}#sk-container-id-1 pre{padding: 0;}#sk-container-id-1 div.sk-toggleable {background-color: white;}#sk-container-id-1 label.sk-toggleable__label {cursor: pointer;display: block;width: 100%;margin-bottom: 0;padding: 0.3em;box-sizing: border-box;text-align: center;}#sk-container-id-1 label.sk-toggleable__label-arrow:before {content: \"▸\";float: left;margin-right: 0.25em;color: #696969;}#sk-container-id-1 label.sk-toggleable__label-arrow:hover:before {color: black;}#sk-container-id-1 div.sk-estimator:hover label.sk-toggleable__label-arrow:before {color: black;}#sk-container-id-1 div.sk-toggleable__content {max-height: 0;max-width: 0;overflow: hidden;text-align: left;background-color: #f0f8ff;}#sk-container-id-1 div.sk-toggleable__content pre {margin: 0.2em;color: black;border-radius: 0.25em;background-color: #f0f8ff;}#sk-container-id-1 input.sk-toggleable__control:checked~div.sk-toggleable__content {max-height: 200px;max-width: 100%;overflow: auto;}#sk-container-id-1 input.sk-toggleable__control:checked~label.sk-toggleable__label-arrow:before {content: \"▾\";}#sk-container-id-1 div.sk-estimator input.sk-toggleable__control:checked~label.sk-toggleable__label {background-color: #d4ebff;}#sk-container-id-1 div.sk-label input.sk-toggleable__control:checked~label.sk-toggleable__label {background-color: #d4ebff;}#sk-container-id-1 input.sk-hidden--visually {border: 0;clip: rect(1px 1px 1px 1px);clip: rect(1px, 1px, 1px, 1px);height: 1px;margin: -1px;overflow: hidden;padding: 0;position: absolute;width: 1px;}#sk-container-id-1 div.sk-estimator {font-family: monospace;background-color: #f0f8ff;border: 1px dotted black;border-radius: 0.25em;box-sizing: border-box;margin-bottom: 0.5em;}#sk-container-id-1 div.sk-estimator:hover {background-color: #d4ebff;}#sk-container-id-1 div.sk-parallel-item::after {content: \"\";width: 100%;border-bottom: 1px solid gray;flex-grow: 1;}#sk-container-id-1 div.sk-label:hover label.sk-toggleable__label {background-color: #d4ebff;}#sk-container-id-1 div.sk-serial::before {content: \"\";position: absolute;border-left: 1px solid gray;box-sizing: border-box;top: 0;bottom: 0;left: 50%;z-index: 0;}#sk-container-id-1 div.sk-serial {display: flex;flex-direction: column;align-items: center;background-color: white;padding-right: 0.2em;padding-left: 0.2em;position: relative;}#sk-container-id-1 div.sk-item {position: relative;z-index: 1;}#sk-container-id-1 div.sk-parallel {display: flex;align-items: stretch;justify-content: center;background-color: white;position: relative;}#sk-container-id-1 div.sk-item::before, #sk-container-id-1 div.sk-parallel-item::before {content: \"\";position: absolute;border-left: 1px solid gray;box-sizing: border-box;top: 0;bottom: 0;left: 50%;z-index: -1;}#sk-container-id-1 div.sk-parallel-item {display: flex;flex-direction: column;z-index: 1;position: relative;background-color: white;}#sk-container-id-1 div.sk-parallel-item:first-child::after {align-self: flex-end;width: 50%;}#sk-container-id-1 div.sk-parallel-item:last-child::after {align-self: flex-start;width: 50%;}#sk-container-id-1 div.sk-parallel-item:only-child::after {width: 0;}#sk-container-id-1 div.sk-dashed-wrapped {border: 1px dashed gray;margin: 0 0.4em 0.5em 0.4em;box-sizing: border-box;padding-bottom: 0.4em;background-color: white;}#sk-container-id-1 div.sk-label label {font-family: monospace;font-weight: bold;display: inline-block;line-height: 1.2em;}#sk-container-id-1 div.sk-label-container {text-align: center;}#sk-container-id-1 div.sk-container {/* jupyter's `normalize.less` sets `[hidden] { display: none; }` but bootstrap.min.css set `[hidden] { display: none !important; }` so we also need the `!important` here to be able to override the default hidden behavior on the sphinx rendered scikit-learn.org. See: https://github.com/scikit-learn/scikit-learn/issues/21755 */display: inline-block !important;position: relative;}#sk-container-id-1 div.sk-text-repr-fallback {display: none;}</style><div id=\"sk-container-id-1\" class=\"sk-top-container\"><div class=\"sk-text-repr-fallback\"><pre>SGDClassifier(alpha=0.001, random_state=42)</pre><b>In a Jupyter environment, please rerun this cell to show the HTML representation or trust the notebook. <br />On GitHub, the HTML representation is unable to render, please try loading this page with nbviewer.org.</b></div><div class=\"sk-container\" hidden><div class=\"sk-item\"><div class=\"sk-estimator sk-toggleable\"><input class=\"sk-toggleable__control sk-hidden--visually\" id=\"sk-estimator-id-1\" type=\"checkbox\" checked><label for=\"sk-estimator-id-1\" class=\"sk-toggleable__label sk-toggleable__label-arrow\">SGDClassifier</label><div class=\"sk-toggleable__content\"><pre>SGDClassifier(alpha=0.001, random_state=42)</pre></div></div></div></div></div>"
     },
     "execution_count": 52,
     "metadata": {},
     "output_type": "execute_result"
    }
   ],
   "source": [
    "test_model.fit(my_array, y_train)"
   ],
   "metadata": {
    "collapsed": false,
    "ExecuteTime": {
     "end_time": "2023-11-15T14:29:35.178147900Z",
     "start_time": "2023-11-15T14:29:33.325808800Z"
    }
   },
   "id": "57d448fc952e1f4c"
  },
  {
   "cell_type": "code",
   "execution_count": 54,
   "outputs": [],
   "source": [
    "test_array = np.array([model_resume.wv.get_sentence_vector(sent) if len(sent) else np.zeros(128) for sent in X_test.values]) "
   ],
   "metadata": {
    "collapsed": false,
    "ExecuteTime": {
     "end_time": "2023-11-15T14:37:36.609927100Z",
     "start_time": "2023-11-15T14:35:37.217389200Z"
    }
   },
   "id": "3802808bb7879fef"
  },
  {
   "cell_type": "code",
   "execution_count": 55,
   "outputs": [],
   "source": [
    "y_preds = test_model.predict(test_array)"
   ],
   "metadata": {
    "collapsed": false,
    "ExecuteTime": {
     "end_time": "2023-11-15T14:37:46.457210700Z",
     "start_time": "2023-11-15T14:37:46.363658300Z"
    }
   },
   "id": "940b8d76f0ea4858"
  },
  {
   "cell_type": "code",
   "execution_count": 56,
   "outputs": [
    {
     "data": {
      "text/plain": "array(['finance', 'finance', 'finance', ..., 'finance', 'finance',\n       'finance'], dtype='<U8')"
     },
     "execution_count": 56,
     "metadata": {},
     "output_type": "execute_result"
    }
   ],
   "source": [
    "y_preds"
   ],
   "metadata": {
    "collapsed": false,
    "ExecuteTime": {
     "end_time": "2023-11-15T14:37:59.333624800Z",
     "start_time": "2023-11-15T14:37:59.283581600Z"
    }
   },
   "id": "6d5076891cefd4e1"
  },
  {
   "cell_type": "code",
   "execution_count": 61,
   "outputs": [
    {
     "data": {
      "text/plain": "array(['polytics', 'polytics', 'cinema', ..., 'hitech', 'finance',\n       'hitech'], dtype=object)"
     },
     "execution_count": 61,
     "metadata": {},
     "output_type": "execute_result"
    }
   ],
   "source": [
    "y_test"
   ],
   "metadata": {
    "collapsed": false,
    "ExecuteTime": {
     "end_time": "2023-11-15T14:42:40.402615100Z",
     "start_time": "2023-11-15T14:42:40.332975400Z"
    }
   },
   "id": "32a74355b73b3a75"
  },
  {
   "cell_type": "code",
   "execution_count": 70,
   "outputs": [],
   "source": [
    "labels = df.target.value_counts().index.tolist()"
   ],
   "metadata": {
    "collapsed": false,
    "ExecuteTime": {
     "end_time": "2023-11-15T14:47:05.911843200Z",
     "start_time": "2023-11-15T14:47:05.851999600Z"
    }
   },
   "id": "4ae42c644c5745a6"
  },
  {
   "cell_type": "code",
   "execution_count": null,
   "outputs": [],
   "source": [
    "cm = confusion_matrix(y_test, y_preds, labels=pipe2.classes_)\n",
    "\n",
    "cm_df = pd.DataFrame(data=cm, columns=pipe2.classes_, index=pipe2.classes_)\n",
    "\n",
    "plt.figure(figsize=(16, 4))\n",
    "\n",
    "sns.heatmap(cm_df, square=False, annot=True, cmap='Blues', fmt='d', cbar=False);"
   ],
   "metadata": {
    "collapsed": false
   },
   "id": "9b0dcee59c5f2c6b"
  },
  {
   "cell_type": "code",
   "execution_count": 75,
   "outputs": [],
   "source": [
    "cm = confusion_matrix(y_test, y_preds)"
   ],
   "metadata": {
    "collapsed": false,
    "ExecuteTime": {
     "end_time": "2023-11-15T14:49:44.007626900Z",
     "start_time": "2023-11-15T14:49:43.851200300Z"
    }
   },
   "id": "84c9c8f024ea6e13"
  },
  {
   "cell_type": "code",
   "execution_count": 76,
   "outputs": [
    {
     "data": {
      "text/plain": "array([[  74,    4, 5548,  362,    0,    0,   12],\n       [   2,  319, 5496,  102,    1,    0,   80],\n       [   7,   33, 5809,   96,    0,    0,   55],\n       [   8,   22, 5154,  796,    0,    0,   20],\n       [   0,   24, 5920,   16,    1,    0,   39],\n       [   4,   19, 5894,   58,    0,    0,   25],\n       [   1,   84, 5160,   20,    0,    0,  735]], dtype=int64)"
     },
     "execution_count": 76,
     "metadata": {},
     "output_type": "execute_result"
    }
   ],
   "source": [
    "cm"
   ],
   "metadata": {
    "collapsed": false,
    "ExecuteTime": {
     "end_time": "2023-11-15T14:49:53.661356700Z",
     "start_time": "2023-11-15T14:49:53.621529100Z"
    }
   },
   "id": "655c69a8472a4eff"
  },
  {
   "cell_type": "code",
   "execution_count": 72,
   "outputs": [],
   "source": [
    "cm_df = pd.DataFrame(data=cm, columns=labels, index=labels)"
   ],
   "metadata": {
    "collapsed": false,
    "ExecuteTime": {
     "end_time": "2023-11-15T14:48:13.761617700Z",
     "start_time": "2023-11-15T14:48:13.704483300Z"
    }
   },
   "id": "96063206f48a075f"
  },
  {
   "cell_type": "code",
   "execution_count": 74,
   "outputs": [
    {
     "data": {
      "text/plain": "          auto  cinema  finance  hitech  polytics  realty  sport\nauto        74       4     5548     362         0       0     12\ncinema       2     319     5496     102         1       0     80\nfinance      7      33     5809      96         0       0     55\nhitech       8      22     5154     796         0       0     20\npolytics     0      24     5920      16         1       0     39\nrealty       4      19     5894      58         0       0     25\nsport        1      84     5160      20         0       0    735",
      "text/html": "<div>\n<style scoped>\n    .dataframe tbody tr th:only-of-type {\n        vertical-align: middle;\n    }\n\n    .dataframe tbody tr th {\n        vertical-align: top;\n    }\n\n    .dataframe thead th {\n        text-align: right;\n    }\n</style>\n<table border=\"1\" class=\"dataframe\">\n  <thead>\n    <tr style=\"text-align: right;\">\n      <th></th>\n      <th>auto</th>\n      <th>cinema</th>\n      <th>finance</th>\n      <th>hitech</th>\n      <th>polytics</th>\n      <th>realty</th>\n      <th>sport</th>\n    </tr>\n  </thead>\n  <tbody>\n    <tr>\n      <th>auto</th>\n      <td>74</td>\n      <td>4</td>\n      <td>5548</td>\n      <td>362</td>\n      <td>0</td>\n      <td>0</td>\n      <td>12</td>\n    </tr>\n    <tr>\n      <th>cinema</th>\n      <td>2</td>\n      <td>319</td>\n      <td>5496</td>\n      <td>102</td>\n      <td>1</td>\n      <td>0</td>\n      <td>80</td>\n    </tr>\n    <tr>\n      <th>finance</th>\n      <td>7</td>\n      <td>33</td>\n      <td>5809</td>\n      <td>96</td>\n      <td>0</td>\n      <td>0</td>\n      <td>55</td>\n    </tr>\n    <tr>\n      <th>hitech</th>\n      <td>8</td>\n      <td>22</td>\n      <td>5154</td>\n      <td>796</td>\n      <td>0</td>\n      <td>0</td>\n      <td>20</td>\n    </tr>\n    <tr>\n      <th>polytics</th>\n      <td>0</td>\n      <td>24</td>\n      <td>5920</td>\n      <td>16</td>\n      <td>1</td>\n      <td>0</td>\n      <td>39</td>\n    </tr>\n    <tr>\n      <th>realty</th>\n      <td>4</td>\n      <td>19</td>\n      <td>5894</td>\n      <td>58</td>\n      <td>0</td>\n      <td>0</td>\n      <td>25</td>\n    </tr>\n    <tr>\n      <th>sport</th>\n      <td>1</td>\n      <td>84</td>\n      <td>5160</td>\n      <td>20</td>\n      <td>0</td>\n      <td>0</td>\n      <td>735</td>\n    </tr>\n  </tbody>\n</table>\n</div>"
     },
     "execution_count": 74,
     "metadata": {},
     "output_type": "execute_result"
    }
   ],
   "source": [
    "cm_df"
   ],
   "metadata": {
    "collapsed": false,
    "ExecuteTime": {
     "end_time": "2023-11-15T14:48:51.043490500Z",
     "start_time": "2023-11-15T14:48:50.884278300Z"
    }
   },
   "id": "9a765f9d71aa207d"
  },
  {
   "cell_type": "code",
   "execution_count": 73,
   "outputs": [
    {
     "data": {
      "text/plain": "<Figure size 1600x400 with 1 Axes>",
      "image/png": "[encoded data removed]"
     },
     "metadata": {},
     "output_type": "display_data"
    }
   ],
   "source": [
    "plt.figure(figsize=(16, 4))\n",
    "\n",
    "sns.heatmap(cm_df, square=False, annot=True, cmap='Blues', fmt='d', cbar=False);"
   ],
   "metadata": {
    "collapsed": false,
    "ExecuteTime": {
     "end_time": "2023-11-15T14:48:31.731513600Z",
     "start_time": "2023-11-15T14:48:31.471841600Z"
    }
   },
   "id": "888a384bca078208"
  },
  {
   "cell_type": "code",
   "execution_count": 77,
   "outputs": [
    {
     "data": {
      "text/plain": "finance     38981\nhitech       1450\nsport         966\ncinema        505\nauto           96\npolytics        2\ndtype: int64"
     },
     "execution_count": 77,
     "metadata": {},
     "output_type": "execute_result"
    }
   ],
   "source": [
    "pd.DataFrame(y_preds).value_counts()"
   ],
   "metadata": {
    "collapsed": false,
    "ExecuteTime": {
     "end_time": "2023-11-15T14:51:17.991289500Z",
     "start_time": "2023-11-15T14:51:17.916775800Z"
    }
   },
   "id": "3537b6da3c4ead6f"
  },
  {
   "cell_type": "markdown",
   "source": [
    "Получилась какая-то чушь. То ли нужно было SVC реализацию выбирать и подбирать порог C, то ли вообще параметры по сетке упорно подбирать, то ли я где-то с размерностью векторов запутался. Не буду здесь застревать: мне не нравится ни модель классификации, ни качество эмбедденгов"
   ],
   "metadata": {
    "collapsed": false
   },
   "id": "5b327ba1fc6fb47b"
  },
  {
   "cell_type": "markdown",
   "source": [
    "#### 3.3. FastText Supervised  "
   ],
   "metadata": {
    "collapsed": false
   },
   "id": "fa974808dbc6ad60"
  },
  {
   "cell_type": "markdown",
   "source": [
    "Тут сразу учится модель и классификатор. Просто нужно скормить модели набор эталонных текстов и лейблов к ним (по сути трейн датасет) в таком текстовом формате:\n",
    " __label__0 some text\n",
    "__label__1 another text\n",
    "__label__0 the last text\n",
    "\n",
    "И всё, обучена и модель эмбеддингов, и классификация!\n",
    "\n",
    "Ну так давайте сделаем это: "
   ],
   "metadata": {
    "collapsed": false
   },
   "id": "8a6ee94a66cb9467"
  },
  {
   "cell_type": "code",
   "execution_count": 104,
   "outputs": [],
   "source": [
    "import fasttext as fasttext"
   ],
   "metadata": {
    "collapsed": false,
    "ExecuteTime": {
     "end_time": "2023-11-15T15:26:12.267736900Z",
     "start_time": "2023-11-15T15:26:12.189104800Z"
    }
   },
   "id": "7e1edbbce99cab1e"
  },
  {
   "cell_type": "code",
   "execution_count": 103,
   "outputs": [],
   "source": [
    "with open('ft_train_data.txt', 'w', encoding=\"utf-8\") as f:\n",
    "    for pair in list(zip(X_train, y_train)):\n",
    "        text, label = pair\n",
    "        f.write(f'__label__{label} {text.lower()}\\n')\n",
    "        \n",
    "with open('ft_test_data.txt', 'w', encoding=\"utf-8\") as f:\n",
    "    for pair in list(zip(X_test, y_test)):\n",
    "        text, label = pair\n",
    "        f.write(f'__label__{label} {text.lower()}\\n')"
   ],
   "metadata": {
    "collapsed": false,
    "ExecuteTime": {
     "start_time": "2023-11-15T15:23:33.435030200Z"
    }
   },
   "id": "f36e0ab24f3c5f53"
  },
  {
   "cell_type": "code",
   "execution_count": 105,
   "outputs": [
    {
     "name": "stdout",
     "output_type": "stream",
     "text": [
      "P@1: 0.832047619047619\n",
      "R@1: 0.832047619047619\n",
      "Number of examples: 42000\n"
     ]
    }
   ],
   "source": [
    "classifier = fasttext.train_supervised('ft_train_data.txt')#, 'model')\n",
    "result = classifier.test('ft_test_data.txt')\n",
    "print('P@1:', result[1])#.precision)\n",
    "print('R@1:', result[2])#.recall)\n",
    "print('Number of examples:', result[0])#.nexamples)"
   ],
   "metadata": {
    "collapsed": false,
    "ExecuteTime": {
     "end_time": "2023-11-15T15:26:23.515399300Z",
     "start_time": "2023-11-15T15:26:20.423693300Z"
    }
   },
   "id": "ad7e983c01c863ba"
  },
  {
   "cell_type": "markdown",
   "source": [
    "Качество получилось чуть похуже, чем у w2v (меньше на 0.8 процентных пункта). Ну и всё, можно предсказывать класс"
   ],
   "metadata": {
    "collapsed": false
   },
   "id": "a1a8937ac49e03ec"
  },
  {
   "cell_type": "code",
   "execution_count": 106,
   "outputs": [
    {
     "data": {
      "text/plain": "(('__label__sport',), array([0.96400917]))"
     },
     "execution_count": 106,
     "metadata": {},
     "output_type": "execute_result"
    }
   ],
   "source": [
    "classifier.predict('А я иду шагаю по Москве')"
   ],
   "metadata": {
    "collapsed": false,
    "ExecuteTime": {
     "end_time": "2023-11-15T15:27:06.359412500Z",
     "start_time": "2023-11-15T15:27:06.280410700Z"
    }
   },
   "id": "a8a6c4857a2762a4"
  },
  {
   "cell_type": "markdown",
   "source": [
    "Выдаёт кортеж: первый элемент - класс, второй - уверенность модели в этом прогнозе"
   ],
   "metadata": {
    "collapsed": false
   },
   "id": "fd81b2ecb68a5bfd"
  },
  {
   "cell_type": "markdown",
   "source": [
    "## 4. Применение модели к нашему датасету"
   ],
   "metadata": {
    "collapsed": false
   },
   "id": "cf62c3d1ac976f73"
  },
  {
   "cell_type": "markdown",
   "source": [
    "Опускаем как несущественную часть"
   ],
   "metadata": {
    "collapsed": false
   },
   "id": "207ff857925046d9"
  },
  {
   "cell_type": "markdown",
   "source": [
    "### 5. Краткие выводы и мысли вслух"
   ],
   "metadata": {
    "collapsed": false
   },
   "id": "88646cc9e431e1a7"
  },
  {
   "cell_type": "markdown",
   "source": [
    "* Итак, задача решена - научился многими способами обучать эмбеддинги слов и строить классификаторы w2v и fasttext\n",
    "* Субъективно, лучшее качество для задач классификации среди этих классов эмбеддингов имеет w2v, обученный на резюме новостей.\n",
    "* Обучение для задач классификации fasttext модели в unsupervised режиме требует тонкой настройки параметров (преимущественно нижней границы ngramm)\n",
    "* Похожее качество с w2v даёт fasttext в supervised режиме. Кроме того, он существенно проще (и быстрее) учится и применяется. Но субъективно, я впечатлен w2v и немного разочарован в fasttext.\n",
    "* Странно, почему мы не изучали здесь же Glove-эмбеддинги - они ведь из этого же семейства, только самые умные ) "
   ],
   "metadata": {
    "collapsed": false
   },
   "id": "5815843da3a1c13"
  }
 ],
 "metadata": {
  "kernelspec": {
   "display_name": "Python 3",
   "language": "python",
   "name": "python3"
  },
  "language_info": {
   "codemirror_mode": {
    "name": "ipython",
    "version": 2
   },
   "file_extension": ".py",
   "mimetype": "text/x-python",
   "name": "python",
   "nbconvert_exporter": "python",
   "pygments_lexer": "ipython2",
   "version": "2.7.6"
  }
 },
 "nbformat": 4,
 "nbformat_minor": 5
}
